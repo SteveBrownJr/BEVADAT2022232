{
 "cells": [
  {
   "cell_type": "code",
   "execution_count": null,
   "metadata": {},
   "outputs": [],
   "source": [
    "#Készíts egy olyan függvényt ami paraméterként egy listát vár amiben egész számok vannak, \n",
    "#és el kell döntenie,hogy van-e benne páratlan szám. A visszatérésí érték egy bool legyen (True:van benne,False:nincs benne)\n",
    "#Egy példa a bemenetre: [1,2,3,4,4,5]\n",
    "#Egy példa a kimenetre: True\n",
    "#return type: bool\n",
    "#függvény neve legyen: contains_odd"
   ]
  },
  {
   "cell_type": "code",
   "execution_count": null,
   "metadata": {},
   "outputs": [],
   "source": [
    "def contains_odd(my_list):\n",
    "    result = False\n",
    "    for element in my_list:\n",
    "        if element % 2 == 1:\n",
    "            result = True\n",
    "            break\n",
    "    return result"
   ]
  },
  {
   "cell_type": "code",
   "execution_count": null,
   "metadata": {},
   "outputs": [],
   "source": [
    "#Készíts egy függvényt ami paraméterként egy listát vár amiben egész számok vannak,\n",
    "#és eldönti minden eleméről, hogy páratlan-e. A kimenet egy lista legyen amiben True/False értékek vannak.\n",
    "#Egy példa a bemenetre: [1,2,3,4,5]\n",
    "#Egy példa a kimenetre: [True,False,True,False,True]\n",
    "#return type: list\n",
    "#függvény neve legyen: is_odd"
   ]
  },
  {
   "cell_type": "code",
   "execution_count": null,
   "metadata": {},
   "outputs": [],
   "source": [
    "def is_odd(my_list):\n",
    "    return [ True if element % 2 == 1 else False for element in my_list ]"
   ]
  },
  {
   "cell_type": "code",
   "execution_count": null,
   "metadata": {},
   "outputs": [],
   "source": [
    "#Készíts egy függvényt ami paraméterként 2 db listát vár, és kiszámolja a listák elemenként vett összegét.\n",
    "#A függvény egy listával térjen vissza amiben a megfelelő indexen lévő lista_1 és lista_2 elemek összege van.\n",
    "#Egy példa a bemenetekre: input_list_1:[1,2,3,4], input_list_2:[1,2,3,4]\n",
    "#Egy példa a kimenetre: [2,3,4,8]\n",
    "#return type: list\n",
    "#függvény neve legyen: element_wise_sum"
   ]
  },
  {
   "cell_type": "code",
   "execution_count": null,
   "metadata": {},
   "outputs": [],
   "source": [
    "def element_wise_sum(list_1,list_2):\n",
    "    return [ element_1 + element_2  for element_1,element_2 in zip(list_1,list_2)] "
   ]
  },
  {
   "cell_type": "code",
   "execution_count": null,
   "metadata": {},
   "outputs": [],
   "source": [
    "#Készíts egy függvényt ami paraméterként egy dictionary-t vár és egy listával tér vissza\n",
    "#amiben a kulcs:érték párok egy Tuple-ben vannak.\n",
    "#Egy példa a bemenetere: {\"egy\":1,\"ketto\":2,\"harom\":3}\n",
    "#Egy példa a kimenetre: [(\"egy\",1),(\"ketto\",2),(\"harom\",3)]\n",
    "#return type: list\n",
    "#függvény nevel egyen: dict_to_lis"
   ]
  },
  {
   "cell_type": "code",
   "execution_count": 2,
   "metadata": {},
   "outputs": [],
   "source": [
    "def dict_to_list(dictionary):\n",
    "    return list(dictionary.items())"
   ]
  },
  {
   "cell_type": "code",
   "execution_count": null,
   "metadata": {},
   "outputs": [],
   "source": [
    "#Ha végeztél a feladatokkal akkor ezt a jupytert alakítsd át egy .py file-ra \n",
    "#ha vscode-ban dolgozol: https://stackoverflow.com/questions/64297272/best-way-to-convert-ipynb-to-py-in-vscode\n",
    "#ha jupyter lab-ban dolgozol: https://stackoverflow.com/questions/52885901/how-to-save-python-script-as-py-file-on-jupyter-notebook"
   ]
  }
 ],
 "metadata": {
  "kernelspec": {
   "display_name": "Python 3",
   "language": "python",
   "name": "python3"
  },
  "language_info": {
   "codemirror_mode": {
    "name": "ipython",
    "version": 3
   },
   "file_extension": ".py",
   "mimetype": "text/x-python",
   "name": "python",
   "nbconvert_exporter": "python",
   "pygments_lexer": "ipython3",
   "version": "3.10.6"
  },
  "orig_nbformat": 4,
  "vscode": {
   "interpreter": {
    "hash": "916dbcbb3f70747c44a77c7bcd40155683ae19c65e1c03b4aa3499c5328201f1"
   }
  }
 },
 "nbformat": 4,
 "nbformat_minor": 2
}
