{
 "cells": [
  {
   "cell_type": "code",
   "execution_count": null,
   "metadata": {},
   "outputs": [],
   "source": [
    "#Create a function that decides if a list contains any odd numbers.\n",
    "#return type: bool\n",
    "#function name must be: contains_odd\n",
    "#input parameters: input_list"
   ]
  },
  {
   "cell_type": "code",
   "execution_count": 2,
   "metadata": {},
   "outputs": [
    {
     "name": "stdout",
     "output_type": "stream",
     "text": [
      "True\n"
     ]
    }
   ],
   "source": [
    "def contains_odd(input_list : list) -> bool:\n",
    "    i = 0\n",
    "    while(i<len(input_list) and input_list[i]%2==0):\n",
    "        i=i+1\n",
    "    if(i<len(input_list)):\n",
    "        return True\n",
    "    return False"
   ]
  },
  {
   "cell_type": "code",
   "execution_count": null,
   "metadata": {},
   "outputs": [],
   "source": [
    "#Create a function that accepts a list of integers, and returns a list of bool.\n",
    "#The return list should be a \"mask\" and indicate whether the list element is odd or not.\n",
    "#(return should look like this: [True,False,False,.....])\n",
    "#return type: list\n",
    "#function name must be: is_odd\n",
    "#input parameters: input_list"
   ]
  },
  {
   "cell_type": "code",
   "execution_count": 3,
   "metadata": {},
   "outputs": [],
   "source": [
    "def is_odd(input_list : list) -> list:\n",
    "    return_list = []\n",
    "    for element in input_list:\n",
    "        if element & 1:\n",
    "            return_list.append(True)\n",
    "        else:\n",
    "            return_list.append(False)\n",
    "    return return_list"
   ]
  },
  {
   "cell_type": "code",
   "execution_count": null,
   "metadata": {},
   "outputs": [],
   "source": [
    "\n",
    "#Create a function that accpects 2 lists of integers and returns their element wise sum. <br>\n",
    "#(return should be a list)\n",
    "#return type: list\n",
    "#function name must be: element_wise_sum\n",
    "#input parameters: input_list_1, input_list_2"
   ]
  },
  {
   "cell_type": "code",
   "execution_count": 4,
   "metadata": {},
   "outputs": [],
   "source": [
    "def element_wise_sum(input_list_1 : list, input_list_2 : list) -> list:\n",
    "    i = 0\n",
    "    j = 0\n",
    "    output_list = []\n",
    "    while( i < len(input_list_1) and j < len(input_list_2)):\n",
    "        output_list.append(input_list_1[i]+input_list_2[j])\n",
    "        i = i + 1\n",
    "        j = j + 1\n",
    "    while(i < len(input_list_1)):\n",
    "        output_list.append(input_list_1[i])\n",
    "        i = i + 1\n",
    "    while(j < len(input_list_2)):\n",
    "        output_list.append(input_list_2[j])\n",
    "        j = j + 1\n",
    "    return output_list"
   ]
  },
  {
   "cell_type": "code",
   "execution_count": null,
   "metadata": {},
   "outputs": [],
   "source": [
    "#Create a function that accepts a dictionary and returns its items as a list of tuples\n",
    "#(return should look like this: [(key,value),(key,value),....])\n",
    "#return type: list\n",
    "#function name must be: dict_to_list\n",
    "#input parameters: input_dict"
   ]
  },
  {
   "cell_type": "code",
   "execution_count": 5,
   "metadata": {},
   "outputs": [],
   "source": [
    "def dict_to_list(input_dict : dict) -> list:\n",
    "    outputlist=[]\n",
    "    for key,value in input_dict.items():\n",
    "        outputlist.append((key,value))\n",
    "    return outputlist"
   ]
  },
  {
   "cell_type": "code",
   "execution_count": null,
   "metadata": {},
   "outputs": [],
   "source": [
    "#If all the functions are created convert this notebook into a .py file and push to your repo"
   ]
  }
 ],
 "metadata": {
  "kernelspec": {
   "display_name": "Python 3",
   "language": "python",
   "name": "python3"
  },
  "language_info": {
   "codemirror_mode": {
    "name": "ipython",
    "version": 3
   },
   "file_extension": ".py",
   "mimetype": "text/x-python",
   "name": "python",
   "nbconvert_exporter": "python",
   "pygments_lexer": "ipython3",
   "version": "3.10.10"
  },
  "orig_nbformat": 4,
  "vscode": {
   "interpreter": {
    "hash": "051ebb7b5aae4f50f29816d47d5839de22b26ed015eb9a597c282ab96b9fffba"
   }
  }
 },
 "nbformat": 4,
 "nbformat_minor": 2
}
